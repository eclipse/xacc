{
 "cells": [
  {
   "cell_type": "markdown",
   "metadata": {},
   "source": [
    "# Simulating Deuteron $H_2$ with XACC-VQE\n",
    "To run this problem via docker, run the following from an empty directory\n",
    "\n",
    "```bash\n",
    "$ docker run --name xacc-notebook -it -p 8888:8888 -d -v $(pwd):/home/notebooks xacc/xacc-all-gate-jupyter-fc26\n",
    "$ (to see jupyter notebook URL) docker logs xacc-notebook\n",
    "```"
   ]
  },
  {
   "cell_type": "code",
   "execution_count": 1,
   "metadata": {},
   "outputs": [
    {
     "name": "stdout",
     "output_type": "stream",
     "text": [
      "Psi4 calculation for H2_sto-3g_singlet has failed.\n"
     ]
    },
    {
     "ename": "UnboundLocalError",
     "evalue": "local variable 'process' referenced before assignment",
     "output_type": "error",
     "traceback": [
      "\u001b[0;31m---------------------------------------------------------------------------\u001b[0m",
      "\u001b[0;31mFileNotFoundError\u001b[0m                         Traceback (most recent call last)",
      "\u001b[0;32m~/.local/lib/python3.6/site-packages/openfermionpsi4/_run_psi4.py\u001b[0m in \u001b[0;36mrun_psi4\u001b[0;34m(molecule, run_scf, run_mp2, run_cisd, run_ccsd, run_fci, verbose, tolerate_error, delete_input, delete_output, memory, template_file)\u001b[0m\n\u001b[1;32m    208\u001b[0m     \u001b[0;32mtry\u001b[0m\u001b[0;34m:\u001b[0m\u001b[0;34m\u001b[0m\u001b[0m\n\u001b[0;32m--> 209\u001b[0;31m         \u001b[0mprocess\u001b[0m \u001b[0;34m=\u001b[0m \u001b[0msubprocess\u001b[0m\u001b[0;34m.\u001b[0m\u001b[0mPopen\u001b[0m\u001b[0;34m(\u001b[0m\u001b[0;34m[\u001b[0m\u001b[0;34m'psi4'\u001b[0m\u001b[0;34m,\u001b[0m \u001b[0minput_file\u001b[0m\u001b[0;34m,\u001b[0m \u001b[0moutput_file\u001b[0m\u001b[0;34m]\u001b[0m\u001b[0;34m)\u001b[0m\u001b[0;34m\u001b[0m\u001b[0m\n\u001b[0m\u001b[1;32m    210\u001b[0m         \u001b[0mprocess\u001b[0m\u001b[0;34m.\u001b[0m\u001b[0mwait\u001b[0m\u001b[0;34m(\u001b[0m\u001b[0;34m)\u001b[0m\u001b[0;34m\u001b[0m\u001b[0m\n",
      "\u001b[0;32m/usr/lib/python3.6/subprocess.py\u001b[0m in \u001b[0;36m__init__\u001b[0;34m(self, args, bufsize, executable, stdin, stdout, stderr, preexec_fn, close_fds, shell, cwd, env, universal_newlines, startupinfo, creationflags, restore_signals, start_new_session, pass_fds, encoding, errors)\u001b[0m\n\u001b[1;32m    708\u001b[0m                                 \u001b[0merrread\u001b[0m\u001b[0;34m,\u001b[0m \u001b[0merrwrite\u001b[0m\u001b[0;34m,\u001b[0m\u001b[0;34m\u001b[0m\u001b[0m\n\u001b[0;32m--> 709\u001b[0;31m                                 restore_signals, start_new_session)\n\u001b[0m\u001b[1;32m    710\u001b[0m         \u001b[0;32mexcept\u001b[0m\u001b[0;34m:\u001b[0m\u001b[0;34m\u001b[0m\u001b[0m\n",
      "\u001b[0;32m/usr/lib/python3.6/subprocess.py\u001b[0m in \u001b[0;36m_execute_child\u001b[0;34m(self, args, executable, preexec_fn, close_fds, pass_fds, cwd, env, startupinfo, creationflags, shell, p2cread, p2cwrite, c2pread, c2pwrite, errread, errwrite, restore_signals, start_new_session)\u001b[0m\n\u001b[1;32m   1343\u001b[0m                             \u001b[0merr_msg\u001b[0m \u001b[0;34m+=\u001b[0m \u001b[0;34m': '\u001b[0m \u001b[0;34m+\u001b[0m \u001b[0mrepr\u001b[0m\u001b[0;34m(\u001b[0m\u001b[0merr_filename\u001b[0m\u001b[0;34m)\u001b[0m\u001b[0;34m\u001b[0m\u001b[0m\n\u001b[0;32m-> 1344\u001b[0;31m                     \u001b[0;32mraise\u001b[0m \u001b[0mchild_exception_type\u001b[0m\u001b[0;34m(\u001b[0m\u001b[0merrno_num\u001b[0m\u001b[0;34m,\u001b[0m \u001b[0merr_msg\u001b[0m\u001b[0;34m,\u001b[0m \u001b[0merr_filename\u001b[0m\u001b[0;34m)\u001b[0m\u001b[0;34m\u001b[0m\u001b[0m\n\u001b[0m\u001b[1;32m   1345\u001b[0m                 \u001b[0;32mraise\u001b[0m \u001b[0mchild_exception_type\u001b[0m\u001b[0;34m(\u001b[0m\u001b[0merr_msg\u001b[0m\u001b[0;34m)\u001b[0m\u001b[0;34m\u001b[0m\u001b[0m\n",
      "\u001b[0;31mFileNotFoundError\u001b[0m: [Errno 2] No such file or directory: 'psi4': 'psi4'",
      "\nDuring handling of the above exception, another exception occurred:\n",
      "\u001b[0;31mUnboundLocalError\u001b[0m                         Traceback (most recent call last)",
      "\u001b[0;32m<ipython-input-1-06e315c052a5>\u001b[0m in \u001b[0;36m<module>\u001b[0;34m()\u001b[0m\n\u001b[1;32m     11\u001b[0m mdata =run_psi4(h2_molecule,\n\u001b[1;32m     12\u001b[0m                     \u001b[0mrun_scf\u001b[0m\u001b[0;34m=\u001b[0m\u001b[0;36m1\u001b[0m\u001b[0;34m,\u001b[0m\u001b[0;34m\u001b[0m\u001b[0m\n\u001b[0;32m---> 13\u001b[0;31m                     run_fci=1)\n\u001b[0m\u001b[1;32m     14\u001b[0m \u001b[0mprint\u001b[0m\u001b[0;34m(\u001b[0m\u001b[0;34m\"E(HF)=\"\u001b[0m\u001b[0;34m,\u001b[0m \u001b[0mmdata\u001b[0m\u001b[0;34m.\u001b[0m\u001b[0mhf_energy\u001b[0m\u001b[0;34m)\u001b[0m\u001b[0;34m\u001b[0m\u001b[0m\n\u001b[1;32m     15\u001b[0m \u001b[0mprint\u001b[0m\u001b[0;34m(\u001b[0m\u001b[0;34m\"E(HF)=\"\u001b[0m\u001b[0;34m,\u001b[0m \u001b[0mmdata\u001b[0m\u001b[0;34m.\u001b[0m\u001b[0mfci_energy\u001b[0m\u001b[0;34m)\u001b[0m\u001b[0;34m\u001b[0m\u001b[0m\n",
      "\u001b[0;32m~/.local/lib/python3.6/site-packages/openfermionpsi4/_run_psi4.py\u001b[0m in \u001b[0;36mrun_psi4\u001b[0;34m(molecule, run_scf, run_mp2, run_cisd, run_ccsd, run_fci, verbose, tolerate_error, delete_input, delete_output, memory, template_file)\u001b[0m\n\u001b[1;32m    211\u001b[0m     \u001b[0;32mexcept\u001b[0m\u001b[0;34m:\u001b[0m\u001b[0;34m\u001b[0m\u001b[0m\n\u001b[1;32m    212\u001b[0m         \u001b[0mprint\u001b[0m\u001b[0;34m(\u001b[0m\u001b[0;34m'Psi4 calculation for {} has failed.'\u001b[0m\u001b[0;34m.\u001b[0m\u001b[0mformat\u001b[0m\u001b[0;34m(\u001b[0m\u001b[0mmolecule\u001b[0m\u001b[0;34m.\u001b[0m\u001b[0mname\u001b[0m\u001b[0;34m)\u001b[0m\u001b[0;34m)\u001b[0m\u001b[0;34m\u001b[0m\u001b[0m\n\u001b[0;32m--> 213\u001b[0;31m         \u001b[0mprocess\u001b[0m\u001b[0;34m.\u001b[0m\u001b[0mkill\u001b[0m\u001b[0;34m(\u001b[0m\u001b[0;34m)\u001b[0m\u001b[0;34m\u001b[0m\u001b[0m\n\u001b[0m\u001b[1;32m    214\u001b[0m         \u001b[0mclean_up\u001b[0m\u001b[0;34m(\u001b[0m\u001b[0mmolecule\u001b[0m\u001b[0;34m,\u001b[0m \u001b[0mdelete_input\u001b[0m\u001b[0;34m,\u001b[0m \u001b[0mdelete_output\u001b[0m\u001b[0;34m)\u001b[0m\u001b[0;34m\u001b[0m\u001b[0m\n\u001b[1;32m    215\u001b[0m         \u001b[0;32mif\u001b[0m \u001b[0;32mnot\u001b[0m \u001b[0mtolerate_error\u001b[0m\u001b[0;34m:\u001b[0m\u001b[0;34m\u001b[0m\u001b[0m\n",
      "\u001b[0;31mUnboundLocalError\u001b[0m: local variable 'process' referenced before assignment"
     ]
    }
   ],
   "source": [
    "import psi4\n",
    "from  openfermionpsi4  import run_psi4\n",
    "from openfermion.hamiltonians import MolecularData\n",
    "\n",
    "geometry= [('H', (0,0,0)),('H',(0,0,.7474))]\n",
    "basis = 'sto-3g'\n",
    "multiplicity = 1\n",
    "charge=0\n",
    "h2_molecule = MolecularData(geometry,basis, multiplicity, 0)\n",
    "\n",
    "mdata =run_psi4(h2_molecule,\n",
    "                    run_scf=1,\n",
    "                    run_fci=1)\n",
    "print(\"E(HF)=\", mdata.hf_energy)\n",
    "print(\"E(HF)=\", mdata.fci_energy)"
   ]
  },
  {
   "cell_type": "markdown",
   "metadata": {},
   "source": [
    "## Import necessary libraries, create the Hamiltonian and Ansatz Circuits"
   ]
  },
  {
   "cell_type": "code",
   "execution_count": null,
   "metadata": {},
   "outputs": [],
   "source": [
    "import sys\n",
    "#sys.path.append('/usr/local/xacc/lib/python')\n",
    "import numpy as np\n",
    "import pyxacc as xacc\n",
    "from pyxacc import InstructionParameter\n",
    "import pyxaccvqe as vqe\n",
    "from pyxaccvqe import PauliOperator\n",
    "%matplotlib inline\n",
    "\n",
    "xacc.Initialize(['--compiler','quil'])\n",
    "\n",
    "# Specify the Accelerator to run on, \n",
    "# default to TNQVM MPS simulator\n",
    "qpuName = 'tnqvm'\n",
    "qpu = xacc.getAccelerator(qpuName)\n",
    "errorMitigation = ['correct-readout-errors']\n",
    "logicalToPhysicalQubitMapping = [0,1]\n",
    "nQubits = max(logicalToPhysicalQubitMapping) + 1\n",
    "\n",
    "# Construct the H2 Hamiltonian (see Eq 4 of paper)\n",
    "H2 = PauliOperator(5.906709445) + \\\n",
    "    PauliOperator({0:'X',1:'X'}, -2.1433) + \\\n",
    "    PauliOperator({0:'Y',1:'Y'}, -2.1433) + \\\n",
    "    PauliOperator({0:'Z'}, .21829) + \\\n",
    "    PauliOperator({1:'Z'}, -6.125)\n",
    "\n",
    "# Code up and compile the H2 ansatz in Quil\n",
    "srcH2 = \"\"\"__qpu__ ansatz(AcceleratorBuffer, double t0) {\n",
    "X 0\n",
    "RY(t0) 1\n",
    "CNOT 1 0\n",
    "}\"\"\"\n",
    "ansatzH2 = xacc.compileKernel(qpu, srcH2) \n",
    "print(ansatzH2.name())"
   ]
  },
  {
   "cell_type": "markdown",
   "metadata": {},
   "source": [
    "## Parameter Sweep"
   ]
  },
  {
   "cell_type": "code",
   "execution_count": null,
   "metadata": {},
   "outputs": [],
   "source": [
    "# Sweep over the given angle range for H2 and plot\n",
    "angle_range = np.linspace(-np.pi,np.pi,50)\n",
    "energiesH2 = [vqe.execute(H2, **{'task':'compute-energy', \n",
    "                                        'vqe-params':str(t), \n",
    "                                        'ansatz':ansatzH2}).energy #, 'n-qubits':nQubits,\n",
    "                                        #'error-mitigation':errorMitigation, \n",
    "                                        #'qubit-map':logicalToPhysicalQubitMapping}).energy \n",
    "            for t in angle_range]\n",
    "import matplotlib.pyplot as plt\n",
    "plt.figure(figsize=(9,5))\n",
    "plt.xlabel(r'$\\theta$')\n",
    "plt.ylabel(r'$\\langle H\\rangle$')\n",
    "plt.plot(angle_range, energiesH2, '-', color='b', label=r'tnqvm')\n",
    "plt.legend()\n",
    "plt.show()\n"
   ]
  },
  {
   "cell_type": "markdown",
   "metadata": {},
   "source": [
    "## VQE routine"
   ]
  },
  {
   "cell_type": "code",
   "execution_count": null,
   "metadata": {},
   "outputs": [],
   "source": [
    "# Execute H2 VQE routine\n",
    "vqeResultH2 = vqe.execute(H2, **{'task':'vqe', 'ansatz':ansatzH2, \n",
    "                                 'error-mitigation':errorMitigation, \n",
    "                                 'qubit-map':logicalToPhysicalQubitMapping})\n",
    "print('H2 (Optimal Angle, Energy) = (', vqeResultH2.angles, ',', vqeResultH2.energy, ')')"
   ]
  },
  {
   "cell_type": "code",
   "execution_count": null,
   "metadata": {},
   "outputs": [],
   "source": []
  }
 ],
 "metadata": {
  "kernelspec": {
   "display_name": "Python 3",
   "language": "python",
   "name": "python3"
  },
  "language_info": {
   "codemirror_mode": {
    "name": "ipython",
    "version": 3
   },
   "file_extension": ".py",
   "mimetype": "text/x-python",
   "name": "python",
   "nbconvert_exporter": "python",
   "pygments_lexer": "ipython3",
   "version": "3.6.5"
  }
 },
 "nbformat": 4,
 "nbformat_minor": 2
}
