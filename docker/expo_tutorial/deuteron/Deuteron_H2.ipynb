{
 "cells": [
  {
   "cell_type": "markdown",
   "metadata": {},
   "source": [
    "# Simulating Deuteron $N=2$ Hamiltonian with XACC-VQE"
   ]
  },
  {
   "cell_type": "code",
   "execution_count": null,
   "metadata": {},
   "outputs": [],
   "source": [
    "from  openfermionpsi4  import run_psi4\n",
    "from openfermion.hamiltonians import MolecularData\n",
    "import numpy as np\n",
    "import xacc\n",
    "from xacc import InstructionParameter\n",
    "import xaccvqe as vqe\n",
    "from xaccvqe import PauliOperator\n",
    "%matplotlib inline"
   ]
  },
  {
   "cell_type": "markdown",
   "metadata": {},
   "source": [
    "## Import necessary libraries, create the Hamiltonian and Ansatz Circuits"
   ]
  },
  {
   "cell_type": "code",
   "execution_count": null,
   "metadata": {},
   "outputs": [],
   "source": [
    "xacc.Initialize(['--compiler','quil'])\n",
    "\n",
    "# Specify the Accelerator to run on, \n",
    "# default to TNQVM MPS simulator\n",
    "qpuName = 'tnqvm'\n",
    "qpu = xacc.getAccelerator(qpuName)\n",
    "\n",
    "# Construct the H2 Hamiltonian (see Eq 4 of paper)\n",
    "H2 = PauliOperator(5.906709445) + \\\n",
    "    PauliOperator({0:'X',1:'X'}, -2.1433) + \\\n",
    "    PauliOperator({0:'Y',1:'Y'}, -2.1433) + \\\n",
    "    PauliOperator({0:'Z'}, .21829) + \\\n",
    "    PauliOperator({1:'Z'}, -6.125)\n",
    "\n",
    "# Code up and compile the H2 ansatz in Quil\n",
    "srcH2 = \"\"\"__qpu__ ansatz(AcceleratorBuffer, double t0) {\n",
    "X 0\n",
    "RY(t0) 1\n",
    "CNOT 1 0\n",
    "}\"\"\"\n",
    "ansatzH2 = xacc.compileKernel(qpu, srcH2) \n"
   ]
  },
  {
   "cell_type": "markdown",
   "metadata": {},
   "source": [
    "## Parameter Sweep"
   ]
  },
  {
   "cell_type": "code",
   "execution_count": null,
   "metadata": {},
   "outputs": [],
   "source": [
    "# Sweep over the given angle range for H2 and plot\n",
    "angle_range = np.linspace(-np.pi,np.pi,50)\n",
    "energiesH2 = [vqe.execute(H2, **{'task':'compute-energy', \n",
    "                                        'vqe-params':str(t), \n",
    "                                        'ansatz':ansatzH2}).energy\n",
    "            for t in angle_range]\n",
    "import matplotlib.pyplot as plt\n",
    "plt.figure(figsize=(9,5))\n",
    "plt.xlabel(r'$\\theta$')\n",
    "plt.ylabel(r'$\\langle H\\rangle$')\n",
    "plt.plot(angle_range, energiesH2, '-', color='k', label=r'tnqvm')\n",
    "plt.legend()\n",
    "plt.show()\n"
   ]
  },
  {
   "cell_type": "markdown",
   "metadata": {},
   "source": [
    "## VQE routine"
   ]
  },
  {
   "cell_type": "code",
   "execution_count": null,
   "metadata": {},
   "outputs": [],
   "source": [
    "# Execute H2 VQE routine\n",
    "vqeResultH2 = vqe.execute(H2, **{'task':'vqe', 'ansatz':ansatzH2})\n",
    "print('H2 (Optimal Angle, Energy) = (', vqeResultH2.angles, ',', vqeResultH2.energy, ')')"
   ]
  },
  {
   "cell_type": "markdown",
   "metadata": {},
   "source": [
    "## Exercise - Run the Parameter Sweep on IBM simulator"
   ]
  },
  {
   "cell_type": "code",
   "execution_count": null,
   "metadata": {},
   "outputs": [],
   "source": []
  }
 ],
 "metadata": {
  "kernelspec": {
   "display_name": "Python 3",
   "language": "python",
   "name": "python3"
  },
  "language_info": {
   "codemirror_mode": {
    "name": "ipython",
    "version": 3
   },
   "file_extension": ".py",
   "mimetype": "text/x-python",
   "name": "python",
   "nbconvert_exporter": "python",
   "pygments_lexer": "ipython3",
   "version": "3.6.5"
  }
 },
 "nbformat": 4,
 "nbformat_minor": 2
}
