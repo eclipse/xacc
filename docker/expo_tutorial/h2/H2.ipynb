{
 "cells": [
  {
   "cell_type": "markdown",
   "metadata": {},
   "source": [
    "# Ground state of Diatomic Hydrogen using XACC and VQE"
   ]
  },
  {
   "cell_type": "code",
   "execution_count": 1,
   "metadata": {},
   "outputs": [],
   "source": [
    "import pyxacc as xacc\n",
    "import pyxaccvqe as vqe\n",
    "from openfermion.hamiltonians import MolecularData\n",
    "from openfermionpsi4 import run_psi4\n",
    "from openfermion.transforms import get_fermion_operator"
   ]
  },
  {
   "cell_type": "markdown",
   "metadata": {},
   "source": [
    "## Define the Molecule"
   ]
  },
  {
   "cell_type": "code",
   "execution_count": 13,
   "metadata": {},
   "outputs": [],
   "source": [
    "bond_length = .7474\n",
    "geometry = [('H', (0,0,0)),('H',(0,0,bond_length))]\n",
    "basis = 'sto-3g'\n",
    "mdata = MolecularData(geometry,basis,1)"
   ]
  },
  {
   "cell_type": "markdown",
   "metadata": {},
   "source": [
    "## Generate the Hamiltonian coefficients and get FCI energy"
   ]
  },
  {
   "cell_type": "code",
   "execution_count": 14,
   "metadata": {},
   "outputs": [
    {
     "name": "stdout",
     "output_type": "stream",
     "text": [
      "FCI Energy =  -1.1371757101731694\n",
      "Fermionic Hamiltonian = \n",
      " () 0.7080240949826064\n",
      "((0, 1), (0, 0)) -1.248846801817026\n",
      "((1, 1), (1, 0)) -1.248846801817026\n",
      "((2, 1), (2, 0)) -0.4796778151607899\n",
      "((3, 1), (3, 0)) -0.4796778151607899\n",
      "((0, 1), (1, 1), (1, 0), (0, 0)) 0.33667197218932576\n",
      "((0, 1), (1, 1), (3, 0), (2, 0)) 0.0908126658307406\n",
      "((0, 1), (2, 1), (0, 0), (2, 0)) 0.09081266583074038\n",
      "((0, 1), (2, 1), (2, 0), (0, 0)) 0.331213646878486\n",
      "((0, 1), (3, 1), (1, 0), (2, 0)) 0.09081266583074038\n",
      "((0, 1), (3, 1), (3, 0), (0, 0)) 0.331213646878486\n",
      "((1, 1), (0, 1), (0, 0), (1, 0)) 0.33667197218932576\n",
      "((1, 1), (0, 1), (2, 0), (3, 0)) 0.0908126658307406\n",
      "((1, 1), (2, 1), (0, 0), (3, 0)) 0.09081266583074038\n",
      "((1, 1), (2, 1), (2, 0), (1, 0)) 0.331213646878486\n",
      "((1, 1), (3, 1), (1, 0), (3, 0)) 0.09081266583074038\n",
      "((1, 1), (3, 1), (3, 0), (1, 0)) 0.331213646878486\n",
      "((2, 1), (0, 1), (0, 0), (2, 0)) 0.331213646878486\n",
      "((2, 1), (0, 1), (2, 0), (0, 0)) 0.09081266583074052\n",
      "((2, 1), (1, 1), (1, 0), (2, 0)) 0.331213646878486\n",
      "((2, 1), (1, 1), (3, 0), (0, 0)) 0.09081266583074052\n",
      "((2, 1), (3, 1), (1, 0), (0, 0)) 0.09081266583074048\n",
      "((2, 1), (3, 1), (3, 0), (2, 0)) 0.34814578469185886\n",
      "((3, 1), (0, 1), (0, 0), (3, 0)) 0.331213646878486\n",
      "((3, 1), (0, 1), (2, 0), (1, 0)) 0.09081266583074052\n",
      "((3, 1), (1, 1), (1, 0), (3, 0)) 0.331213646878486\n",
      "((3, 1), (1, 1), (3, 0), (1, 0)) 0.09081266583074052\n",
      "((3, 1), (2, 1), (0, 0), (1, 0)) 0.09081266583074048\n",
      "((3, 1), (2, 1), (2, 0), (3, 0)) 0.34814578469185886\n",
      "\n"
     ]
    }
   ],
   "source": [
    "molecule = run_psi4(mdata, run_scf=1, run_fci=1)\n",
    "print('FCI Energy = ', molecule.fci_energy)\n",
    "print('Fermionic Hamiltonian = \\n', molecule.get_molecular_hamiltonian())"
   ]
  },
  {
   "cell_type": "markdown",
   "metadata": {},
   "source": [
    "## Map to OpenFermion FermionOperator"
   ]
  },
  {
   "cell_type": "code",
   "execution_count": 15,
   "metadata": {},
   "outputs": [
    {
     "name": "stdout",
     "output_type": "stream",
     "text": [
      "0.7080240949826064 [] +\n",
      "-1.248846801817026 [0^ 0] +\n",
      "-1.248846801817026 [1^ 1] +\n",
      "-0.4796778151607899 [2^ 2] +\n",
      "-0.4796778151607899 [3^ 3] +\n",
      "0.33667197218932576 [0^ 1^ 1 0] +\n",
      "0.0908126658307406 [0^ 1^ 3 2] +\n",
      "0.09081266583074038 [0^ 2^ 0 2] +\n",
      "0.331213646878486 [0^ 2^ 2 0] +\n",
      "0.09081266583074038 [0^ 3^ 1 2] +\n",
      "0.331213646878486 [0^ 3^ 3 0] +\n",
      "0.33667197218932576 [1^ 0^ 0 1] +\n",
      "0.0908126658307406 [1^ 0^ 2 3] +\n",
      "0.09081266583074038 [1^ 2^ 0 3] +\n",
      "0.331213646878486 [1^ 2^ 2 1] +\n",
      "0.09081266583074038 [1^ 3^ 1 3] +\n",
      "0.331213646878486 [1^ 3^ 3 1] +\n",
      "0.331213646878486 [2^ 0^ 0 2] +\n",
      "0.09081266583074052 [2^ 0^ 2 0] +\n",
      "0.331213646878486 [2^ 1^ 1 2] +\n",
      "0.09081266583074052 [2^ 1^ 3 0] +\n",
      "0.09081266583074048 [2^ 3^ 1 0] +\n",
      "0.34814578469185886 [2^ 3^ 3 2] +\n",
      "0.331213646878486 [3^ 0^ 0 3] +\n",
      "0.09081266583074052 [3^ 0^ 2 1] +\n",
      "0.331213646878486 [3^ 1^ 1 3] +\n",
      "0.09081266583074052 [3^ 1^ 3 1] +\n",
      "0.09081266583074048 [3^ 2^ 0 1] +\n",
      "0.34814578469185886 [3^ 2^ 2 3]\n"
     ]
    }
   ],
   "source": [
    "fop = get_fermion_operator(molecule.get_molecular_hamiltonian()) \n",
    "print(fop)"
   ]
  },
  {
   "cell_type": "markdown",
   "metadata": {},
   "source": [
    "## Compile to XACC Hamiltonian for Accelerator Execution"
   ]
  },
  {
   "cell_type": "code",
   "execution_count": 17,
   "metadata": {},
   "outputs": [
    {
     "name": "stdout",
     "output_type": "stream",
     "text": [
      "(0.174073,0) Z2 Z3 + (0.120201,0) Z1 Z3 + (0.165607,0) Z0 Z3 + (0.120201,0) Z0 Z2 + (0.0454063,0) X0 Y1 Y2 X3 + (-0.0454063,0) Y0 Y1 X2 X3 + (0.0454063,0) Y0 X1 X2 Y3 + (0.165607,0) Z1 Z2 + (-0.0454063,0) X0 X1 Y2 Y3 + (0.168336,0) Z0 Z1 + (-0.220042,0) Z3 + (0.170281,0) Z1 + (-0.220042,0) Z2 + (0.170281,0) Z0 + (-0.10648,0)\n"
     ]
    }
   ],
   "source": [
    "xaccOp = vqe.compile(fop)\n",
    "print(xaccOp)"
   ]
  },
  {
   "cell_type": "markdown",
   "metadata": {},
   "source": [
    "## Execute VQE with Nelder Mead Optimizer and UCCSD Ansatz"
   ]
  },
  {
   "cell_type": "code",
   "execution_count": 18,
   "metadata": {},
   "outputs": [
    {
     "name": "stdout",
     "output_type": "stream",
     "text": [
      "VQE Energy =  -1.1371813393211314\n",
      "VQE Optimized Angles =  [-1.5704786   0.72821066]\n"
     ]
    }
   ],
   "source": [
    "result = vqe.execute(xaccOp, **{'n-electrons':2,'task':'vqe'})\n",
    "print('VQE Energy = ', result.energy)\n",
    "print('VQE Optimized Angles = ', result.angles)"
   ]
  },
  {
   "cell_type": "code",
   "execution_count": null,
   "metadata": {},
   "outputs": [],
   "source": []
  }
 ],
 "metadata": {
  "kernelspec": {
   "display_name": "Python 3",
   "language": "python",
   "name": "python3"
  },
  "language_info": {
   "codemirror_mode": {
    "name": "ipython",
    "version": 3
   },
   "file_extension": ".py",
   "mimetype": "text/x-python",
   "name": "python",
   "nbconvert_exporter": "python",
   "pygments_lexer": "ipython3",
   "version": "3.6.5"
  }
 },
 "nbformat": 4,
 "nbformat_minor": 2
}
