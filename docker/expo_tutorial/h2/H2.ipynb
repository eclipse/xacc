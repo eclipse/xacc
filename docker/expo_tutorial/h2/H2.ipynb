{
 "cells": [
  {
   "cell_type": "code",
   "execution_count": 1,
   "metadata": {},
   "outputs": [],
   "source": [
    "import pyxacc as xacc\n",
    "import pyxaccvqe as vqe\n",
    "from openfermion.hamiltonians import MolecularData\n",
    "from openfermionpsi4 import run_psi4"
   ]
  },
  {
   "cell_type": "code",
   "execution_count": 2,
   "metadata": {},
   "outputs": [
    {
     "name": "stdout",
     "output_type": "stream",
     "text": [
      "-1.1371757101731694\n"
     ]
    }
   ],
   "source": [
    "geometry = [('H', (0,0,0)),('H',(0,0,.7474))]\n",
    "basis = 'sto-3g'\n",
    "mdata = MolecularData(geometry,basis,1)\n",
    "molecule = run_psi4(mdata, run_scf=1, run_fci=1)\n",
    "print(molecule.fci_energy)"
   ]
  },
  {
   "cell_type": "code",
   "execution_count": 5,
   "metadata": {},
   "outputs": [
    {
     "name": "stdout",
     "output_type": "stream",
     "text": [
      "\u001b[0m\u001b[01;32mpsi4\u001b[0m*  \u001b[01;32mxc-info\u001b[0m*  \u001b[01;32mxc-threshold\u001b[0m*\n"
     ]
    }
   ],
   "source": [
    "%ls /root/.local/lib/python3.6/site-packages/psi4/bin\n"
   ]
  },
  {
   "cell_type": "code",
   "execution_count": null,
   "metadata": {},
   "outputs": [],
   "source": []
  }
 ],
 "metadata": {
  "kernelspec": {
   "display_name": "Python 3",
   "language": "python",
   "name": "python3"
  },
  "language_info": {
   "codemirror_mode": {
    "name": "ipython",
    "version": 3
   },
   "file_extension": ".py",
   "mimetype": "text/x-python",
   "name": "python",
   "nbconvert_exporter": "python",
   "pygments_lexer": "ipython3",
   "version": "3.6.5"
  }
 },
 "nbformat": 4,
 "nbformat_minor": 2
}
