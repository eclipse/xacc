{
 "cells": [
  {
   "cell_type": "markdown",
   "metadata": {},
   "source": [
    "# Ground state of Diatomic Hydrogen using XACC and VQE"
   ]
  },
  {
   "cell_type": "code",
   "execution_count": null,
   "metadata": {},
   "outputs": [],
   "source": [
    "import numpy as np\n",
    "import pyxacc as xacc\n",
    "import pyxaccvqe as vqe\n",
    "from openfermion.hamiltonians import MolecularData\n",
    "from openfermionpsi4 import run_psi4\n",
    "from openfermion.transforms import get_fermion_operator"
   ]
  },
  {
   "cell_type": "markdown",
   "metadata": {},
   "source": [
    "## Define the Molecule"
   ]
  },
  {
   "cell_type": "code",
   "execution_count": null,
   "metadata": {},
   "outputs": [],
   "source": [
    "bond_length = .7474\n",
    "geometry = [('H', (0,0,0)),('H',(0,0,bond_length))]\n",
    "basis = 'sto-3g'\n",
    "mdata = MolecularData(geometry,basis,1)"
   ]
  },
  {
   "cell_type": "markdown",
   "metadata": {},
   "source": [
    "## Generate the Hamiltonian coefficients and get FCI energy"
   ]
  },
  {
   "cell_type": "code",
   "execution_count": null,
   "metadata": {},
   "outputs": [],
   "source": [
    "molecule = run_psi4(mdata, run_scf=1, run_fci=1)\n",
    "print('FCI Energy = ', molecule.fci_energy)"
   ]
  },
  {
   "cell_type": "markdown",
   "metadata": {},
   "source": [
    "## Map to OpenFermion FermionOperator"
   ]
  },
  {
   "cell_type": "code",
   "execution_count": null,
   "metadata": {},
   "outputs": [],
   "source": [
    "fop = get_fermion_operator(molecule.get_molecular_hamiltonian()) \n",
    "print(fop)"
   ]
  },
  {
   "cell_type": "markdown",
   "metadata": {},
   "source": [
    "## Compile to XACC Hamiltonian for Accelerator Execution"
   ]
  },
  {
   "cell_type": "code",
   "execution_count": null,
   "metadata": {},
   "outputs": [],
   "source": [
    "xaccOp = vqe.compile(fop)\n",
    "print(xaccOp)"
   ]
  },
  {
   "cell_type": "markdown",
   "metadata": {},
   "source": [
    "## Execute VQE with Nelder Mead Optimizer and UCCSD Ansatz"
   ]
  },
  {
   "cell_type": "code",
   "execution_count": null,
   "metadata": {},
   "outputs": [],
   "source": [
    "result = vqe.execute(xaccOp, **{'n-electrons':2,'task':'vqe'})\n",
    "print('VQE Energy = ', result.energy)\n",
    "print('VQE Optimized Angles = ', result.angles)"
   ]
  },
  {
   "cell_type": "markdown",
   "metadata": {},
   "source": [
    "## Use Scipy to do VQE Optimization"
   ]
  },
  {
   "cell_type": "code",
   "execution_count": null,
   "metadata": {},
   "outputs": [],
   "source": [
    "from scipy.optimize import minimize\n",
    "\n",
    "def energy(p):\n",
    "    return vqe.execute(xaccOp, **{'n-electrons':2, \n",
    "                                  'task':'compute-energy',\n",
    "                                  'vqe-params':str(p[1])+','+str(p[1])}).energy\n",
    "\n",
    "initial_angles = np.random.uniform(low=-np.pi, high=np.pi, size=(2,))\n",
    "\n",
    "opt_result = minimize(energy, initial_angles,\n",
    "                      method=\"nelder-mead\", tol=1e-3, options={'disp':True})\n",
    "\n",
    "opt_energy, opt_amplitudes = opt_result.fun, opt_result.x\n",
    "print(\"\\nOptimalVQE Energy: {}\".format(opt_energy))\n",
    "print(\"Optimal Angles: {}\".format(opt_amplitudes))\n"
   ]
  },
  {
   "cell_type": "markdown",
   "metadata": {},
   "source": [
    "## Exercise - Using above code, loop over bond_length, construct dissociation curve"
   ]
  },
  {
   "cell_type": "code",
   "execution_count": null,
   "metadata": {},
   "outputs": [],
   "source": []
  }
 ],
 "metadata": {
  "kernelspec": {
   "display_name": "Python 3",
   "language": "python",
   "name": "python3"
  },
  "language_info": {
   "codemirror_mode": {
    "name": "ipython",
    "version": 3
   },
   "file_extension": ".py",
   "mimetype": "text/x-python",
   "name": "python",
   "nbconvert_exporter": "python",
   "pygments_lexer": "ipython3",
   "version": "3.6.5"
  }
 },
 "nbformat": 4,
 "nbformat_minor": 2
}
